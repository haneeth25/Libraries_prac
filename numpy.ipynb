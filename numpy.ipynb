{
  "cells": [
    {
      "cell_type": "markdown",
      "metadata": {
        "id": "view-in-github",
        "colab_type": "text"
      },
      "source": [
        "<a href=\"https://colab.research.google.com/github/haneeth25/Libraries_prac/blob/main/numpy.ipynb\" target=\"_parent\"><img src=\"https://colab.research.google.com/assets/colab-badge.svg\" alt=\"Open In Colab\"/></a>"
      ]
    },
    {
      "cell_type": "code",
      "source": [
        "#numpy\n",
        "import numpy as np"
      ],
      "metadata": {
        "id": "U1KSzyqFzrbC"
      },
      "execution_count": null,
      "outputs": []
    },
    {
      "cell_type": "code",
      "source": [
        "# 3d array\n",
        "a = np.array([[[1,2,3],[4,5,6]],[[8,9,10],[11,12,12]]],dtype = 'int16')\n",
        "b = np.array([[1,2,3,4,20],[5,6,7,8,40]])\n",
        "c = np.array([[9,10,11,12],[13,14,15,16]])\n",
        "d =  np.array([[1,2],[5,6],[25,2],[10,120]])\n",
        "e = np.array([[9,10,11,12],[13,14,15,16]])"
      ],
      "metadata": {
        "id": "NMPW5Cl2z--5"
      },
      "execution_count": 245,
      "outputs": []
    },
    {
      "cell_type": "code",
      "source": [
        "a"
      ],
      "metadata": {
        "id": "SKFnaMMc0P-K",
        "outputId": "eadccab1-efca-47f9-d267-dcc95cc15c9d",
        "colab": {
          "base_uri": "https://localhost:8080/"
        }
      },
      "execution_count": 244,
      "outputs": [
        {
          "output_type": "execute_result",
          "data": {
            "text/plain": [
              "array([[[ 1,  2,  3],\n",
              "        [ 4,  5,  6]],\n",
              "\n",
              "       [[ 8,  9, 10],\n",
              "        [11, 12, 12]]], dtype=int16)"
            ]
          },
          "metadata": {},
          "execution_count": 244
        }
      ]
    },
    {
      "cell_type": "code",
      "source": [
        "a.ndim"
      ],
      "metadata": {
        "id": "u3Q6cFiG1Ela",
        "outputId": "e226e79f-19d1-4001-866e-31928f4b7103",
        "colab": {
          "base_uri": "https://localhost:8080/"
        }
      },
      "execution_count": null,
      "outputs": [
        {
          "output_type": "execute_result",
          "data": {
            "text/plain": [
              "3"
            ]
          },
          "metadata": {},
          "execution_count": 127
        }
      ]
    },
    {
      "cell_type": "code",
      "source": [
        "b.shape"
      ],
      "metadata": {
        "id": "-YA3seE31HSw",
        "outputId": "108f2f5c-e6ed-487d-b7cb-ca8a51c0ed47",
        "colab": {
          "base_uri": "https://localhost:8080/"
        }
      },
      "execution_count": null,
      "outputs": [
        {
          "output_type": "execute_result",
          "data": {
            "text/plain": [
              "(2, 5)"
            ]
          },
          "metadata": {},
          "execution_count": 154
        }
      ]
    },
    {
      "cell_type": "code",
      "source": [
        "c.shape"
      ],
      "metadata": {
        "id": "BH3KS5pP94Ro",
        "outputId": "f954302b-b8f8-4888-b8bc-bcdaaea07b05",
        "colab": {
          "base_uri": "https://localhost:8080/"
        }
      },
      "execution_count": null,
      "outputs": [
        {
          "output_type": "execute_result",
          "data": {
            "text/plain": [
              "(2, 4)"
            ]
          },
          "metadata": {},
          "execution_count": 129
        }
      ]
    },
    {
      "cell_type": "code",
      "source": [
        "b.ndim"
      ],
      "metadata": {
        "id": "Lr8MPInC2DWq",
        "outputId": "b75ba637-ef26-4448-c027-37b2a0ad2841",
        "colab": {
          "base_uri": "https://localhost:8080/"
        }
      },
      "execution_count": null,
      "outputs": [
        {
          "output_type": "execute_result",
          "data": {
            "text/plain": [
              "2"
            ]
          },
          "metadata": {},
          "execution_count": 130
        }
      ]
    },
    {
      "cell_type": "code",
      "source": [
        "len(a.shape) == a.ndim"
      ],
      "metadata": {
        "id": "YAuVB1y72eS0",
        "outputId": "11a83514-9819-4e3b-b616-6fbbb4e9465d",
        "colab": {
          "base_uri": "https://localhost:8080/"
        }
      },
      "execution_count": null,
      "outputs": [
        {
          "output_type": "execute_result",
          "data": {
            "text/plain": [
              "True"
            ]
          },
          "metadata": {},
          "execution_count": 131
        }
      ]
    },
    {
      "cell_type": "code",
      "source": [
        "# No of elements\n",
        "a.size"
      ],
      "metadata": {
        "id": "T_XAjmVn2vyK",
        "outputId": "a6938acf-0205-4e9c-91cf-7f0375303783",
        "colab": {
          "base_uri": "https://localhost:8080/"
        }
      },
      "execution_count": null,
      "outputs": [
        {
          "output_type": "execute_result",
          "data": {
            "text/plain": [
              "12"
            ]
          },
          "metadata": {},
          "execution_count": 132
        }
      ]
    },
    {
      "cell_type": "code",
      "source": [
        "a[0][1][2]"
      ],
      "metadata": {
        "id": "Bkq18OVH2EfV",
        "outputId": "1c46c976-d782-44d4-907f-35c5a46af8f4",
        "colab": {
          "base_uri": "https://localhost:8080/"
        }
      },
      "execution_count": null,
      "outputs": [
        {
          "output_type": "execute_result",
          "data": {
            "text/plain": [
              "6"
            ]
          },
          "metadata": {},
          "execution_count": 133
        }
      ]
    },
    {
      "cell_type": "code",
      "source": [
        "a.dtype"
      ],
      "metadata": {
        "id": "PxSDOyU92LRN",
        "outputId": "c40c9621-4d41-4f8c-90cf-f166dabc5d72",
        "colab": {
          "base_uri": "https://localhost:8080/"
        }
      },
      "execution_count": null,
      "outputs": [
        {
          "output_type": "execute_result",
          "data": {
            "text/plain": [
              "dtype('int16')"
            ]
          },
          "metadata": {},
          "execution_count": 134
        }
      ]
    },
    {
      "cell_type": "code",
      "source": [
        "np.zeros(2)"
      ],
      "metadata": {
        "id": "zY8zWls83Pc8",
        "outputId": "5ab5a53d-4749-48af-e9cd-7771c7a05584",
        "colab": {
          "base_uri": "https://localhost:8080/"
        }
      },
      "execution_count": null,
      "outputs": [
        {
          "output_type": "execute_result",
          "data": {
            "text/plain": [
              "array([0., 0.])"
            ]
          },
          "metadata": {},
          "execution_count": 135
        }
      ]
    },
    {
      "cell_type": "code",
      "source": [
        "np.ones(2)"
      ],
      "metadata": {
        "id": "9qnfBWfa5kfu",
        "outputId": "6d086219-e54f-4daa-ffb1-c367dafda86f",
        "colab": {
          "base_uri": "https://localhost:8080/"
        }
      },
      "execution_count": null,
      "outputs": [
        {
          "output_type": "execute_result",
          "data": {
            "text/plain": [
              "array([1., 1.])"
            ]
          },
          "metadata": {},
          "execution_count": 136
        }
      ]
    },
    {
      "cell_type": "code",
      "source": [
        "np.arange(4,10,2) # (start,end,step)"
      ],
      "metadata": {
        "id": "QQwQhtpt6Arc",
        "outputId": "c025409d-32c7-44d6-9120-54dbe59c9e7d",
        "colab": {
          "base_uri": "https://localhost:8080/"
        }
      },
      "execution_count": null,
      "outputs": [
        {
          "output_type": "execute_result",
          "data": {
            "text/plain": [
              "array([4, 6, 8])"
            ]
          },
          "metadata": {},
          "execution_count": 137
        }
      ]
    },
    {
      "cell_type": "code",
      "source": [
        "np.linspace(0,10,num=5) # provide linearspace between number"
      ],
      "metadata": {
        "id": "6f8AiKxm6Itm",
        "outputId": "fe488887-6ba1-4a35-ab3b-2a57cb6a9fb6",
        "colab": {
          "base_uri": "https://localhost:8080/"
        }
      },
      "execution_count": null,
      "outputs": [
        {
          "output_type": "execute_result",
          "data": {
            "text/plain": [
              "array([ 0. ,  2.5,  5. ,  7.5, 10. ])"
            ]
          },
          "metadata": {},
          "execution_count": 138
        }
      ]
    },
    {
      "cell_type": "code",
      "source": [
        "z = np.concatenate((b,c),axis = 1);"
      ],
      "metadata": {
        "id": "cb7XlMaW6V7A"
      },
      "execution_count": null,
      "outputs": []
    },
    {
      "cell_type": "code",
      "source": [
        "z"
      ],
      "metadata": {
        "id": "XduQXS408hpT",
        "outputId": "b90bf269-ac93-45bb-e01f-28788abba411",
        "colab": {
          "base_uri": "https://localhost:8080/"
        }
      },
      "execution_count": null,
      "outputs": [
        {
          "output_type": "execute_result",
          "data": {
            "text/plain": [
              "array([[ 1,  2,  3,  4, 20,  9, 10, 11, 12],\n",
              "       [ 5,  6,  7,  8, 40, 13, 14, 15, 16]])"
            ]
          },
          "metadata": {},
          "execution_count": 140
        }
      ]
    },
    {
      "cell_type": "code",
      "source": [
        "z.shape"
      ],
      "metadata": {
        "id": "FyE79wMX9CrJ",
        "outputId": "3dfa87d6-8684-450b-f964-1a7affd7b511",
        "colab": {
          "base_uri": "https://localhost:8080/"
        }
      },
      "execution_count": null,
      "outputs": [
        {
          "output_type": "execute_result",
          "data": {
            "text/plain": [
              "(2, 9)"
            ]
          },
          "metadata": {},
          "execution_count": 141
        }
      ]
    },
    {
      "cell_type": "code",
      "source": [
        "z = np.concatenate((d,e),axis = 0);"
      ],
      "metadata": {
        "id": "KYASIiz29G2R"
      },
      "execution_count": null,
      "outputs": []
    },
    {
      "cell_type": "code",
      "source": [
        "z"
      ],
      "metadata": {
        "id": "pTrgwo15Adeq",
        "outputId": "dc99bfe8-5cf7-41af-9924-8d2d09516a5f",
        "colab": {
          "base_uri": "https://localhost:8080/"
        }
      },
      "execution_count": null,
      "outputs": [
        {
          "output_type": "execute_result",
          "data": {
            "text/plain": [
              "array([[ 1,  2,  3,  4],\n",
              "       [ 5,  6,  7,  8],\n",
              "       [25,  2,  5, 23],\n",
              "       [ 9, 10, 11, 12],\n",
              "       [13, 14, 15, 16]])"
            ]
          },
          "metadata": {},
          "execution_count": 143
        }
      ]
    },
    {
      "cell_type": "code",
      "source": [
        "z.shape"
      ],
      "metadata": {
        "id": "tjo0tq5OAZ6C",
        "outputId": "166a331a-ee9f-4ace-bbb7-a97ae524b7f3",
        "colab": {
          "base_uri": "https://localhost:8080/"
        }
      },
      "execution_count": null,
      "outputs": [
        {
          "output_type": "execute_result",
          "data": {
            "text/plain": [
              "(5, 4)"
            ]
          },
          "metadata": {},
          "execution_count": 144
        }
      ]
    },
    {
      "cell_type": "code",
      "source": [
        "e = np.arange(6)"
      ],
      "metadata": {
        "id": "wSDd-aDaAbBm"
      },
      "execution_count": null,
      "outputs": []
    },
    {
      "cell_type": "code",
      "source": [
        "e"
      ],
      "metadata": {
        "id": "OSO9Fx71BSxC",
        "outputId": "e9e4febb-2b1d-4e42-851f-2897a5a4c96c",
        "colab": {
          "base_uri": "https://localhost:8080/"
        }
      },
      "execution_count": null,
      "outputs": [
        {
          "output_type": "execute_result",
          "data": {
            "text/plain": [
              "array([0, 1, 2, 3, 4, 5])"
            ]
          },
          "metadata": {},
          "execution_count": 146
        }
      ]
    },
    {
      "cell_type": "code",
      "source": [
        "a.reshape(3,2,2)"
      ],
      "metadata": {
        "id": "QsJEq_MVBaUg",
        "outputId": "ce1b5cdb-bb5a-4c11-b3f7-4ce9c5d9a88a",
        "colab": {
          "base_uri": "https://localhost:8080/"
        }
      },
      "execution_count": null,
      "outputs": [
        {
          "output_type": "execute_result",
          "data": {
            "text/plain": [
              "array([[[ 1,  2],\n",
              "        [ 3,  4]],\n",
              "\n",
              "       [[ 5,  6],\n",
              "        [ 8,  9]],\n",
              "\n",
              "       [[10, 11],\n",
              "        [12, 13]]], dtype=int16)"
            ]
          },
          "metadata": {},
          "execution_count": 147
        }
      ]
    },
    {
      "cell_type": "code",
      "source": [
        "e = np.expand_dims(b,axis = 1)\n",
        "e = np.expand_dims(e,axis = 0)\n",
        "e.shape"
      ],
      "metadata": {
        "id": "H4p7zkblBdZs",
        "outputId": "942e4235-5ed7-49f4-fe53-e8ffd04481a5",
        "colab": {
          "base_uri": "https://localhost:8080/"
        }
      },
      "execution_count": null,
      "outputs": [
        {
          "output_type": "execute_result",
          "data": {
            "text/plain": [
              "(1, 2, 1, 5)"
            ]
          },
          "metadata": {},
          "execution_count": 171
        }
      ]
    },
    {
      "cell_type": "code",
      "source": [
        "e"
      ],
      "metadata": {
        "id": "GSLSZUahEpvD",
        "outputId": "ef4b31e9-8629-4a4d-af54-098b2500d018",
        "colab": {
          "base_uri": "https://localhost:8080/"
        }
      },
      "execution_count": null,
      "outputs": [
        {
          "output_type": "execute_result",
          "data": {
            "text/plain": [
              "array([[[[ 1,  2,  3,  4, 20]],\n",
              "\n",
              "        [[ 5,  6,  7,  8, 40]]]])"
            ]
          },
          "metadata": {},
          "execution_count": 172
        }
      ]
    },
    {
      "cell_type": "code",
      "source": [
        "c+e"
      ],
      "metadata": {
        "id": "Qe_71pZ3Erg5",
        "outputId": "c55f33dd-9d7d-4337-8e13-cdde9d25fcb9",
        "colab": {
          "base_uri": "https://localhost:8080/"
        }
      },
      "execution_count": null,
      "outputs": [
        {
          "output_type": "execute_result",
          "data": {
            "text/plain": [
              "array([[18, 20, 22, 24],\n",
              "       [26, 28, 30, 32]])"
            ]
          },
          "metadata": {},
          "execution_count": 184
        }
      ]
    },
    {
      "cell_type": "code",
      "source": [
        "c*e"
      ],
      "metadata": {
        "id": "QIxxkxzvHNGq",
        "outputId": "55cc4d08-87ba-4fc8-f4ae-638136b227fd",
        "colab": {
          "base_uri": "https://localhost:8080/"
        }
      },
      "execution_count": null,
      "outputs": [
        {
          "output_type": "execute_result",
          "data": {
            "text/plain": [
              "array([[ 81, 100, 121, 144],\n",
              "       [169, 196, 225, 256]])"
            ]
          },
          "metadata": {},
          "execution_count": 191
        }
      ]
    },
    {
      "cell_type": "code",
      "source": [
        "data = np.array([1.0,2.0])\n",
        "data * 1.6"
      ],
      "metadata": {
        "id": "naX1nzgJHZTE",
        "outputId": "ff013184-c603-4866-9b4e-03028fb22a5d",
        "colab": {
          "base_uri": "https://localhost:8080/"
        }
      },
      "execution_count": null,
      "outputs": [
        {
          "output_type": "execute_result",
          "data": {
            "text/plain": [
              "array([1.6, 3.2])"
            ]
          },
          "metadata": {},
          "execution_count": 194
        }
      ]
    },
    {
      "cell_type": "code",
      "source": [
        "data.max()\n",
        "data.min()\n",
        "data.sum()"
      ],
      "metadata": {
        "id": "DtwRBoGDI65l",
        "outputId": "1e529b72-05c0-4807-9d37-35037ad3bad2",
        "colab": {
          "base_uri": "https://localhost:8080/"
        }
      },
      "execution_count": null,
      "outputs": [
        {
          "output_type": "execute_result",
          "data": {
            "text/plain": [
              "3.0"
            ]
          },
          "metadata": {},
          "execution_count": 198
        }
      ]
    },
    {
      "cell_type": "code",
      "source": [
        "a[0].min(axis = 1)"
      ],
      "metadata": {
        "id": "ifkFC0oLJDJq",
        "outputId": "f7469ddd-5997-4a69-f3c4-75cafccd3231",
        "colab": {
          "base_uri": "https://localhost:8080/"
        }
      },
      "execution_count": null,
      "outputs": [
        {
          "output_type": "execute_result",
          "data": {
            "text/plain": [
              "array([1, 4], dtype=int16)"
            ]
          },
          "metadata": {},
          "execution_count": 204
        }
      ]
    },
    {
      "cell_type": "code",
      "source": [
        "data = np.array([[1, 2], [5, 3], [4, 6]])\n",
        "data.min(axis = 1)"
      ],
      "metadata": {
        "id": "IkiPJH-6JUeY",
        "outputId": "42e983b5-3a9f-44a1-f356-74fef4f87bc8",
        "colab": {
          "base_uri": "https://localhost:8080/"
        }
      },
      "execution_count": null,
      "outputs": [
        {
          "output_type": "execute_result",
          "data": {
            "text/plain": [
              "array([1, 3, 4])"
            ]
          },
          "metadata": {},
          "execution_count": 207
        }
      ]
    },
    {
      "cell_type": "code",
      "source": [
        "np.unique(a)"
      ],
      "metadata": {
        "id": "pK9OdNFBKVIG",
        "outputId": "23b8121c-21dc-49c2-9d4c-eb14710ccf3c",
        "colab": {
          "base_uri": "https://localhost:8080/"
        }
      },
      "execution_count": null,
      "outputs": [
        {
          "output_type": "execute_result",
          "data": {
            "text/plain": [
              "array([ 1,  2,  3,  4,  5,  6,  8,  9, 10, 11, 12], dtype=int16)"
            ]
          },
          "metadata": {},
          "execution_count": 210
        }
      ]
    },
    {
      "cell_type": "code",
      "source": [
        "unique_values,occurence_count = np.unique(a,return_counts = True,axis = 0);\n",
        "n = len(unique_values)\n",
        "for i in range(n):\n",
        "    print(unique_values[i],occurence_count[i])"
      ],
      "metadata": {
        "id": "8BFpgxpYK48D",
        "outputId": "3674a04f-e635-4dd8-ac9d-466254e6b4f2",
        "colab": {
          "base_uri": "https://localhost:8080/"
        }
      },
      "execution_count": null,
      "outputs": [
        {
          "output_type": "stream",
          "name": "stdout",
          "text": [
            "[[1 2 3]\n",
            " [4 5 6]] 1\n",
            "[[ 8  9 10]\n",
            " [11 12 12]] 1\n"
          ]
        }
      ]
    },
    {
      "cell_type": "code",
      "source": [
        "y = np.flip(a[0])\n",
        "y.shape\n",
        "x = np.concatenate((y,a[1]),axis = 1)\n",
        "a[1]"
      ],
      "metadata": {
        "id": "K2k5R92EMC15",
        "outputId": "0a48550a-3e69-409f-b85e-6a7c02cc60ec",
        "colab": {
          "base_uri": "https://localhost:8080/"
        }
      },
      "execution_count": 238,
      "outputs": [
        {
          "output_type": "execute_result",
          "data": {
            "text/plain": [
              "array([[ 8,  9, 10],\n",
              "       [11, 12, 12]], dtype=int16)"
            ]
          },
          "metadata": {},
          "execution_count": 238
        }
      ]
    },
    {
      "cell_type": "code",
      "source": [
        "y"
      ],
      "metadata": {
        "id": "rkxUQjgiW4IT",
        "outputId": "c87636e7-e161-4075-c16d-88ddc134e4cc",
        "colab": {
          "base_uri": "https://localhost:8080/"
        }
      },
      "execution_count": 236,
      "outputs": [
        {
          "output_type": "execute_result",
          "data": {
            "text/plain": [
              "array([[6, 5, 4],\n",
              "       [3, 2, 1]], dtype=int16)"
            ]
          },
          "metadata": {},
          "execution_count": 236
        }
      ]
    },
    {
      "cell_type": "code",
      "source": [
        "x"
      ],
      "metadata": {
        "id": "s2_bCY8oV_x1",
        "outputId": "eea96c18-4c6f-495f-8846-71b0d64b09a1",
        "colab": {
          "base_uri": "https://localhost:8080/"
        }
      },
      "execution_count": 237,
      "outputs": [
        {
          "output_type": "execute_result",
          "data": {
            "text/plain": [
              "array([[ 6,  5,  4,  8,  9, 10],\n",
              "       [ 3,  2,  1, 11, 12, 12]], dtype=int16)"
            ]
          },
          "metadata": {},
          "execution_count": 237
        }
      ]
    },
    {
      "cell_type": "code",
      "source": [
        "arr_2d = np.array([[1, 2, 3, 4], [5, 6, 7, 8], [9, 10, 11, 12]])"
      ],
      "metadata": {
        "id": "RTiOtk52WuOu"
      },
      "execution_count": 239,
      "outputs": []
    },
    {
      "cell_type": "code",
      "source": [
        "a[0]"
      ],
      "metadata": {
        "id": "sNJPFZyEdBgb",
        "outputId": "f93b1d22-375d-4690-c92f-356f2bded176",
        "colab": {
          "base_uri": "https://localhost:8080/"
        }
      },
      "execution_count": 256,
      "outputs": [
        {
          "output_type": "execute_result",
          "data": {
            "text/plain": [
              "array([[1, 2, 3],\n",
              "       [4, 5, 6]], dtype=int16)"
            ]
          },
          "metadata": {},
          "execution_count": 256
        }
      ]
    },
    {
      "cell_type": "code",
      "source": [
        "a[0] = np.flip(a[0])"
      ],
      "metadata": {
        "id": "FzFoa1LyX5pU"
      },
      "execution_count": 263,
      "outputs": []
    },
    {
      "cell_type": "code",
      "source": [
        "a"
      ],
      "metadata": {
        "id": "LisPm7sBX9-0",
        "outputId": "0698592e-a647-4337-dc0c-852bf1079237",
        "colab": {
          "base_uri": "https://localhost:8080/"
        }
      },
      "execution_count": 264,
      "outputs": [
        {
          "output_type": "execute_result",
          "data": {
            "text/plain": [
              "array([[[ 6,  5,  4],\n",
              "        [ 3,  2,  1]],\n",
              "\n",
              "       [[ 8,  9, 10],\n",
              "        [11, 12, 12]]], dtype=int16)"
            ]
          },
          "metadata": {},
          "execution_count": 264
        }
      ]
    },
    {
      "cell_type": "code",
      "source": [
        "# flatten,ravel\n",
        "a"
      ],
      "metadata": {
        "id": "cvh-SulGX_gv",
        "outputId": "5ca9ad2d-b4ad-48f1-f511-3121c4c40763",
        "colab": {
          "base_uri": "https://localhost:8080/"
        }
      },
      "execution_count": 266,
      "outputs": [
        {
          "output_type": "execute_result",
          "data": {
            "text/plain": [
              "array([[[ 6,  5,  4],\n",
              "        [ 3,  2,  1]],\n",
              "\n",
              "       [[ 8,  9, 10],\n",
              "        [11, 12, 12]]], dtype=int16)"
            ]
          },
          "metadata": {},
          "execution_count": 266
        }
      ]
    },
    {
      "cell_type": "code",
      "source": [
        "a1 = a.flatten()"
      ],
      "metadata": {
        "id": "_eVo83Qje-UM"
      },
      "execution_count": 267,
      "outputs": []
    },
    {
      "cell_type": "code",
      "source": [
        "a1"
      ],
      "metadata": {
        "id": "5UpM3O0jfDwT",
        "outputId": "4858ca73-9525-48ea-c73d-8f2df8c171f4",
        "colab": {
          "base_uri": "https://localhost:8080/"
        }
      },
      "execution_count": 268,
      "outputs": [
        {
          "output_type": "execute_result",
          "data": {
            "text/plain": [
              "array([ 6,  5,  4,  3,  2,  1,  8,  9, 10, 11, 12, 12], dtype=int16)"
            ]
          },
          "metadata": {},
          "execution_count": 268
        }
      ]
    },
    {
      "cell_type": "code",
      "source": [
        "a1[3] = 100"
      ],
      "metadata": {
        "id": "_DscG35ifEtd"
      },
      "execution_count": 269,
      "outputs": []
    },
    {
      "cell_type": "code",
      "source": [
        "a"
      ],
      "metadata": {
        "id": "_RR0_OoTfIjj",
        "outputId": "f54d1db0-e564-47e7-9217-f9bb86d0e27c",
        "colab": {
          "base_uri": "https://localhost:8080/"
        }
      },
      "execution_count": 271,
      "outputs": [
        {
          "output_type": "execute_result",
          "data": {
            "text/plain": [
              "array([[[ 6,  5,  4],\n",
              "        [ 3,  2,  1]],\n",
              "\n",
              "       [[ 8,  9, 10],\n",
              "        [11, 12, 12]]], dtype=int16)"
            ]
          },
          "metadata": {},
          "execution_count": 271
        }
      ]
    },
    {
      "cell_type": "code",
      "source": [
        "a2 = a.ravel()"
      ],
      "metadata": {
        "id": "gSXraKbpfJNX"
      },
      "execution_count": 272,
      "outputs": []
    },
    {
      "cell_type": "code",
      "source": [
        "a2"
      ],
      "metadata": {
        "id": "snh_rNuHfVPx",
        "outputId": "05a5a97a-d032-40a3-ac8d-db6440836913",
        "colab": {
          "base_uri": "https://localhost:8080/"
        }
      },
      "execution_count": 273,
      "outputs": [
        {
          "output_type": "execute_result",
          "data": {
            "text/plain": [
              "array([ 6,  5,  4,  3,  2,  1,  8,  9, 10, 11, 12, 12], dtype=int16)"
            ]
          },
          "metadata": {},
          "execution_count": 273
        }
      ]
    },
    {
      "cell_type": "code",
      "source": [
        "a2[2] = 100"
      ],
      "metadata": {
        "id": "ta0pp8WafWAl"
      },
      "execution_count": 274,
      "outputs": []
    },
    {
      "cell_type": "code",
      "source": [
        "a\n",
        "# Main array also changes if you use ravel"
      ],
      "metadata": {
        "id": "G8HIWT5vfXvs",
        "outputId": "e7809055-fd23-402e-8cd1-de17470c635f",
        "colab": {
          "base_uri": "https://localhost:8080/"
        }
      },
      "execution_count": 276,
      "outputs": [
        {
          "output_type": "execute_result",
          "data": {
            "text/plain": [
              "array([[[  6,   5, 100],\n",
              "        [  3,   2,   1]],\n",
              "\n",
              "       [[  8,   9,  10],\n",
              "        [ 11,  12,  12]]], dtype=int16)"
            ]
          },
          "metadata": {},
          "execution_count": 276
        }
      ]
    },
    {
      "cell_type": "code",
      "source": [],
      "metadata": {
        "id": "qyQ4exVHfY43"
      },
      "execution_count": null,
      "outputs": []
    }
  ],
  "metadata": {
    "colab": {
      "name": "Welcome To Colab",
      "toc_visible": true,
      "provenance": [],
      "include_colab_link": true
    },
    "kernelspec": {
      "display_name": "Python 3",
      "name": "python3"
    }
  },
  "nbformat": 4,
  "nbformat_minor": 0
}