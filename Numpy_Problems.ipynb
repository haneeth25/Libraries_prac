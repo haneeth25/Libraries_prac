{
  "nbformat": 4,
  "nbformat_minor": 0,
  "metadata": {
    "colab": {
      "provenance": [],
      "authorship_tag": "ABX9TyP1nFrzztEOkGaM1L4I/yLb",
      "include_colab_link": true
    },
    "kernelspec": {
      "name": "python3",
      "display_name": "Python 3"
    },
    "language_info": {
      "name": "python"
    }
  },
  "cells": [
    {
      "cell_type": "markdown",
      "metadata": {
        "id": "view-in-github",
        "colab_type": "text"
      },
      "source": [
        "<a href=\"https://colab.research.google.com/github/haneeth25/Libraries_prac/blob/main/Numpy_Problems.ipynb\" target=\"_parent\"><img src=\"https://colab.research.google.com/assets/colab-badge.svg\" alt=\"Open In Colab\"/></a>"
      ]
    },
    {
      "cell_type": "markdown",
      "source": [
        "Scenario 1: Customer Segmentation for a Retail Store\n",
        "Description:\n",
        "You have customer purchase data and want to segment customers based on their buying behavior.\n",
        "Tasks:\n",
        "1. Load and preprocess the data.\n",
        "2. Calculate summary statistics like total spend, frequency of purchases, and average spend per visit."
      ],
      "metadata": {
        "id": "k_CRQ7b_bvYw"
      }
    },
    {
      "cell_type": "code",
      "execution_count": 1,
      "metadata": {
        "id": "oAksbFDZbS54"
      },
      "outputs": [],
      "source": [
        "import numpy as np"
      ]
    },
    {
      "cell_type": "markdown",
      "source": [
        "Customer data : [CustomerID,TotalSpend,Frequency,AvgSpendPerVisit]"
      ],
      "metadata": {
        "id": "JC2uifuX9vk1"
      }
    },
    {
      "cell_type": "code",
      "source": [
        "np.random.seed(42);"
      ],
      "metadata": {
        "id": "BLT80DSM9nZT"
      },
      "execution_count": 2,
      "outputs": []
    },
    {
      "cell_type": "code",
      "source": [
        "customer_data = np.random.rand(100,3)*[1000,50,200]\n",
        "customer_ids = np.arange(1,101).reshape(-1,1)\n",
        "customer_data = np.hstack((customer_ids,customer_data))"
      ],
      "metadata": {
        "id": "CjkVPOQF-Qyn"
      },
      "execution_count": 3,
      "outputs": []
    },
    {
      "cell_type": "code",
      "source": [],
      "metadata": {
        "id": "Ku_ZtnOb_G7j"
      },
      "execution_count": null,
      "outputs": []
    }
  ]
}