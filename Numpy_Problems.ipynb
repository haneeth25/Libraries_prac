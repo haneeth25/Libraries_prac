{
  "nbformat": 4,
  "nbformat_minor": 0,
  "metadata": {
    "colab": {
      "provenance": [],
      "authorship_tag": "ABX9TyO057CkRdafkwb6J87bjGPS",
      "include_colab_link": true
    },
    "kernelspec": {
      "name": "python3",
      "display_name": "Python 3"
    },
    "language_info": {
      "name": "python"
    }
  },
  "cells": [
    {
      "cell_type": "markdown",
      "metadata": {
        "id": "view-in-github",
        "colab_type": "text"
      },
      "source": [
        "<a href=\"https://colab.research.google.com/github/haneeth25/Libraries_prac/blob/main/Numpy_Problems.ipynb\" target=\"_parent\"><img src=\"https://colab.research.google.com/assets/colab-badge.svg\" alt=\"Open In Colab\"/></a>"
      ]
    },
    {
      "cell_type": "markdown",
      "source": [
        "Scenario 1: Customer Segmentation for a Retail Store\n",
        "Description:\n",
        "You have customer purchase data and want to segment customers based on their buying behavior.\n",
        "Tasks:\n",
        "1. Load and preprocess the data.\n",
        "2. Calculate summary statistics like total spend, frequency of purchases, and average spend per visit."
      ],
      "metadata": {
        "id": "k_CRQ7b_bvYw"
      }
    },
    {
      "cell_type": "code",
      "execution_count": null,
      "metadata": {
        "id": "oAksbFDZbS54"
      },
      "outputs": [],
      "source": [
        "import numpy as np"
      ]
    },
    {
      "cell_type": "markdown",
      "source": [
        "Customer data : [CustomerID,TotalSpend,Frequency,AvgSpendPerVisit]"
      ],
      "metadata": {
        "id": "JC2uifuX9vk1"
      }
    },
    {
      "cell_type": "code",
      "source": [
        "np.random.seed(42);"
      ],
      "metadata": {
        "id": "BLT80DSM9nZT"
      },
      "execution_count": null,
      "outputs": []
    },
    {
      "cell_type": "code",
      "source": [
        "customer_data = np.random.rand(100,3)*[1000,50,200]\n",
        "customer_ids = np.arange(1,101).reshape(-1,1)\n",
        "customer_data = np.hstack((customer_ids,customer_data))"
      ],
      "metadata": {
        "id": "CjkVPOQF-Qyn"
      },
      "execution_count": 13,
      "outputs": []
    },
    {
      "cell_type": "code",
      "source": [
        "customer_data"
      ],
      "metadata": {
        "id": "Ku_ZtnOb_G7j"
      },
      "execution_count": null,
      "outputs": []
    },
    {
      "cell_type": "code",
      "source": [
        "totalspend = customer_data[:,1]\n",
        "mean = np.mean(totalspend)\n",
        "median = np.median(totalspend)\n",
        "median\n",
        "unique_values,occurence_count = np.unique(totalspend,return_counts = True)\n",
        "max_occurence_count = occurence_count.max()\n",
        "max_occurence_idx = np.where(occurence_count == max_occurence_count)[0][0]\n",
        "mode = unique_values[max_occurence_idx]\n",
        "mode"
      ],
      "metadata": {
        "id": "a_musUTcHfT9",
        "outputId": "277e7f3c-c18e-464e-ab1e-86b1e8c7bf56",
        "colab": {
          "base_uri": "https://localhost:8080/"
        }
      },
      "execution_count": 65,
      "outputs": [
        {
          "output_type": "execute_result",
          "data": {
            "text/plain": [
              "13.094456588333635"
            ]
          },
          "metadata": {},
          "execution_count": 65
        }
      ]
    },
    {
      "cell_type": "code",
      "source": [
        "frequency = customer_data[:,2]\n",
        "mean = np.mean(frequency )\n",
        "median = np.median(frequency )\n",
        "median\n",
        "unique_values,occurence_count = np.unique(frequency ,return_counts = True)\n",
        "max_occurence_count = occurence_count.max()\n",
        "max_occurence_idx = np.where(occurence_count == max_occurence_count)[0][0]\n",
        "mode = unique_values[max_occurence_idx]\n",
        "mode"
      ],
      "metadata": {
        "id": "xr58H8NKKRKx",
        "outputId": "070340c7-f6d1-4da4-9cfd-8cee0ac145a7",
        "colab": {
          "base_uri": "https://localhost:8080/"
        }
      },
      "execution_count": 66,
      "outputs": [
        {
          "output_type": "execute_result",
          "data": {
            "text/plain": [
              "0.6500961755368018"
            ]
          },
          "metadata": {},
          "execution_count": 66
        }
      ]
    },
    {
      "cell_type": "code",
      "source": [
        "AvgSpendPerVisit = customer_data[:,3]\n",
        "mean = np.mean(AvgSpendPerVisit )\n",
        "median = np.median(AvgSpendPerVisit )\n",
        "median\n",
        "unique_values,occurence_count = np.unique(AvgSpendPerVisit ,return_counts = True)\n",
        "max_occurence_count = occurence_count.max()\n",
        "max_occurence_idx = np.where(occurence_count == max_occurence_count)[0][0]\n",
        "mode = unique_values[max_occurence_idx]\n",
        "mode"
      ],
      "metadata": {
        "id": "ZgmkT1_KOJZl",
        "outputId": "e3c9da11-a8f6-465b-9eca-591c0c9c4db0",
        "colab": {
          "base_uri": "https://localhost:8080/"
        }
      },
      "execution_count": 67,
      "outputs": [
        {
          "output_type": "execute_result",
          "data": {
            "text/plain": [
              "0.9264046009205718"
            ]
          },
          "metadata": {},
          "execution_count": 67
        }
      ]
    },
    {
      "cell_type": "code",
      "source": [],
      "metadata": {
        "id": "0s5oS7gPPDCI"
      },
      "execution_count": null,
      "outputs": []
    }
  ]
}