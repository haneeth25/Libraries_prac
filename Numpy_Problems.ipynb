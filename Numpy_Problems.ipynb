{
  "nbformat": 4,
  "nbformat_minor": 0,
  "metadata": {
    "colab": {
      "provenance": [],
      "authorship_tag": "ABX9TyPWcQAshakvzUSViOCFphMo",
      "include_colab_link": true
    },
    "kernelspec": {
      "name": "python3",
      "display_name": "Python 3"
    },
    "language_info": {
      "name": "python"
    }
  },
  "cells": [
    {
      "cell_type": "markdown",
      "metadata": {
        "id": "view-in-github",
        "colab_type": "text"
      },
      "source": [
        "<a href=\"https://colab.research.google.com/github/haneeth25/Libraries_prac/blob/main/Numpy_Problems.ipynb\" target=\"_parent\"><img src=\"https://colab.research.google.com/assets/colab-badge.svg\" alt=\"Open In Colab\"/></a>"
      ]
    },
    {
      "cell_type": "markdown",
      "source": [
        "# Scenario 1: Customer Segmentation for a Retail Store\n",
        "Description:\n",
        "You have customer purchase data and want to segment customers based on their buying behavior.\n",
        "Tasks:\n",
        "1. Load and preprocess the data.\n",
        "2. Calculate summary statistics like total spend, frequency of purchases, and average spend per visit."
      ],
      "metadata": {
        "id": "k_CRQ7b_bvYw"
      }
    },
    {
      "cell_type": "code",
      "execution_count": 1,
      "metadata": {
        "id": "oAksbFDZbS54"
      },
      "outputs": [],
      "source": [
        "import numpy as np"
      ]
    },
    {
      "cell_type": "markdown",
      "source": [
        "Customer data : [CustomerID,TotalSpend,Frequency,AvgSpendPerVisit]"
      ],
      "metadata": {
        "id": "JC2uifuX9vk1"
      }
    },
    {
      "cell_type": "code",
      "source": [
        "np.random.seed(42);"
      ],
      "metadata": {
        "id": "BLT80DSM9nZT"
      },
      "execution_count": null,
      "outputs": []
    },
    {
      "cell_type": "code",
      "source": [
        "customer_data = np.random.rand(100,3)*[1000,50,200]\n",
        "customer_ids = np.arange(1,101).reshape(-1,1)\n",
        "customer_data = np.hstack((customer_ids,customer_data))"
      ],
      "metadata": {
        "id": "CjkVPOQF-Qyn"
      },
      "execution_count": null,
      "outputs": []
    },
    {
      "cell_type": "code",
      "source": [
        "customer_data"
      ],
      "metadata": {
        "id": "Ku_ZtnOb_G7j"
      },
      "execution_count": null,
      "outputs": []
    },
    {
      "cell_type": "code",
      "source": [
        "totalspend = customer_data[:,1]\n",
        "mean = np.mean(totalspend)\n",
        "median = np.median(totalspend)\n",
        "median\n",
        "unique_values,occurence_count = np.unique(totalspend,return_counts = True)\n",
        "max_occurence_count = occurence_count.max()\n",
        "max_occurence_idx = np.where(occurence_count == max_occurence_count)[0][0]\n",
        "mode = unique_values[max_occurence_idx]\n",
        "mode"
      ],
      "metadata": {
        "id": "a_musUTcHfT9",
        "outputId": "277e7f3c-c18e-464e-ab1e-86b1e8c7bf56",
        "colab": {
          "base_uri": "https://localhost:8080/"
        }
      },
      "execution_count": null,
      "outputs": [
        {
          "output_type": "execute_result",
          "data": {
            "text/plain": [
              "13.094456588333635"
            ]
          },
          "metadata": {},
          "execution_count": 65
        }
      ]
    },
    {
      "cell_type": "code",
      "source": [
        "frequency = customer_data[:,2]\n",
        "mean = np.mean(frequency )\n",
        "median = np.median(frequency )\n",
        "median\n",
        "unique_values,occurence_count = np.unique(frequency ,return_counts = True)\n",
        "max_occurence_count = occurence_count.max()\n",
        "max_occurence_idx = np.where(occurence_count == max_occurence_count)[0][0]\n",
        "mode = unique_values[max_occurence_idx]\n",
        "mode"
      ],
      "metadata": {
        "id": "xr58H8NKKRKx",
        "outputId": "070340c7-f6d1-4da4-9cfd-8cee0ac145a7",
        "colab": {
          "base_uri": "https://localhost:8080/"
        }
      },
      "execution_count": null,
      "outputs": [
        {
          "output_type": "execute_result",
          "data": {
            "text/plain": [
              "0.6500961755368018"
            ]
          },
          "metadata": {},
          "execution_count": 66
        }
      ]
    },
    {
      "cell_type": "code",
      "source": [
        "AvgSpendPerVisit = customer_data[:,3]\n",
        "mean = np.mean(AvgSpendPerVisit )\n",
        "median = np.median(AvgSpendPerVisit )\n",
        "median\n",
        "unique_values,occurence_count = np.unique(AvgSpendPerVisit ,return_counts = True)\n",
        "max_occurence_count = occurence_count.max()\n",
        "max_occurence_idx = np.where(occurence_count == max_occurence_count)[0][0]\n",
        "mode = unique_values[max_occurence_idx]\n",
        "mode"
      ],
      "metadata": {
        "id": "ZgmkT1_KOJZl",
        "outputId": "e3c9da11-a8f6-465b-9eca-591c0c9c4db0",
        "colab": {
          "base_uri": "https://localhost:8080/"
        }
      },
      "execution_count": null,
      "outputs": [
        {
          "output_type": "execute_result",
          "data": {
            "text/plain": [
              "0.9264046009205718"
            ]
          },
          "metadata": {},
          "execution_count": 67
        }
      ]
    },
    {
      "cell_type": "markdown",
      "source": [
        "# Scenario 2: Movie Recommendations\n",
        "Description:\n",
        "You have a dataset of user ratings for different movies. You want to recommend movies to users based on their ratings.\n",
        "Tasks:\n",
        "1. Load and preprocess the data.\n",
        "2. Calculate the average rating for each movie.\n",
        "3. Identify the top N movies by average rating.\n"
      ],
      "metadata": {
        "id": "aVulffM2sT9w"
      }
    },
    {
      "cell_type": "code",
      "source": [
        "np.random.seed(42)\n",
        "user_ids = np.random.randint(1, 21, 100) # 20 users\n",
        "movie_ids = np.random.randint(1, 51, 100) # 50 movies\n",
        "ratings = np.random.randint(1, 6, 100) # Ratings between 1 and 5\n",
        "ratings_data = np.column_stack((user_ids, movie_ids, ratings))"
      ],
      "metadata": {
        "id": "0s5oS7gPPDCI"
      },
      "execution_count": 4,
      "outputs": []
    },
    {
      "cell_type": "code",
      "source": [
        "ratings_data"
      ],
      "metadata": {
        "id": "WGiwYtfuskU-"
      },
      "execution_count": null,
      "outputs": []
    },
    {
      "cell_type": "code",
      "source": [
        "#Calculate the average rating for each movie.\n",
        "d = {\n",
        "\n",
        "}\n",
        "for each in ratings_data:\n",
        "  if d.get(each[1]) == None:\n",
        "    d[each[1]] = each[2]\n",
        "  else:\n",
        "    d[each[1]] = (d.get(each[1])+each[2])/2\n",
        "print(d)"
      ],
      "metadata": {
        "colab": {
          "base_uri": "https://localhost:8080/"
        },
        "id": "2D7p4GE5smGR",
        "outputId": "4d756d98-92e8-4c6a-c4bb-60d22aca1615"
      },
      "execution_count": 17,
      "outputs": [
        {
          "output_type": "stream",
          "name": "stdout",
          "text": [
            "{35: 2.75, 44: 2.1875, 40: 3, 22: 2.0, 27: 2.5, 1: 3.875, 37: 3.5625, 47: 1, 14: 2.5, 3: 4.25, 5: 5, 26: 3.0, 39: 2.34375, 9: 3.0, 15: 3.125, 42: 2.25, 13: 2.75, 32: 4.3125, 49: 3.75, 4: 1, 30: 3.0, 23: 3.0, 45: 3.5, 43: 3, 29: 4, 36: 2, 7: 4, 28: 1.1875, 2: 1.875, 6: 5.0, 20: 3, 11: 4, 25: 4, 33: 3.0, 41: 2.0, 8: 2, 24: 2.5, 12: 4, 17: 2, 19: 3}\n"
          ]
        }
      ]
    },
    {
      "cell_type": "code",
      "source": [
        "# Identify the top N movies by average rating.\n",
        "movie_id = []\n",
        "avg_rating = []\n",
        "for k,v in d.items():\n",
        "  movie_id.append(k)\n",
        "  avg_rating.append(v)\n",
        "print(movie_id)"
      ],
      "metadata": {
        "colab": {
          "base_uri": "https://localhost:8080/"
        },
        "id": "v8ASNa3QvkfJ",
        "outputId": "f51e87f4-2b81-4cab-db5d-7b698943d238"
      },
      "execution_count": 23,
      "outputs": [
        {
          "output_type": "stream",
          "name": "stdout",
          "text": [
            "[35, 44, 40, 22, 27, 1, 37, 47, 14, 3, 5, 26, 39, 9, 15, 42, 13, 32, 49, 4, 30, 23, 45, 43, 29, 36, 7, 28, 2, 6, 20, 11, 25, 33, 41, 8, 24, 12, 17, 19]\n"
          ]
        }
      ]
    },
    {
      "cell_type": "code",
      "source": [
        "print(avg_rating)"
      ],
      "metadata": {
        "id": "bzVs8lFRxgCh",
        "outputId": "3add387b-3cfb-41ec-85ee-f0cf8e04413a",
        "colab": {
          "base_uri": "https://localhost:8080/"
        }
      },
      "execution_count": 24,
      "outputs": [
        {
          "output_type": "stream",
          "name": "stdout",
          "text": [
            "[2.75, 2.1875, 3, 2.0, 2.5, 3.875, 3.5625, 1, 2.5, 4.25, 5, 3.0, 2.34375, 3.0, 3.125, 2.25, 2.75, 4.3125, 3.75, 1, 3.0, 3.0, 3.5, 3, 4, 2, 4, 1.1875, 1.875, 5.0, 3, 4, 4, 3.0, 2.0, 2, 2.5, 4, 2, 3]\n"
          ]
        }
      ]
    },
    {
      "cell_type": "markdown",
      "source": [
        "# The numpy.argsort function returns an array of indices that would sort the given array. If you apply these indices to the original array, you get a sorted array."
      ],
      "metadata": {
        "id": "jnD7-GIZzcYy"
      }
    },
    {
      "cell_type": "code",
      "source": [
        "sorted_index = np.argsort(avg_rating)"
      ],
      "metadata": {
        "id": "6wroXvCUyAtL"
      },
      "execution_count": 30,
      "outputs": []
    },
    {
      "cell_type": "code",
      "source": [
        "sorted_index"
      ],
      "metadata": {
        "id": "bqZO6o2FyKiG",
        "outputId": "b0f21be5-de45-413e-e9d2-44e1227f6656",
        "colab": {
          "base_uri": "https://localhost:8080/"
        }
      },
      "execution_count": 31,
      "outputs": [
        {
          "output_type": "execute_result",
          "data": {
            "text/plain": [
              "array([19,  7, 27, 28,  3, 35, 34, 25, 38,  1, 15, 12, 36,  4,  8, 16,  0,\n",
              "       39, 13, 20, 21, 23, 33, 11, 30,  2, 14, 22,  6, 18,  5, 31, 32, 24,\n",
              "       37, 26,  9, 17, 10, 29])"
            ]
          },
          "metadata": {},
          "execution_count": 31
        }
      ]
    },
    {
      "cell_type": "code",
      "source": [
        "# to view top n average movies\n",
        "n = 5\n",
        "i = 0\n",
        "l = len(movie_id)\n",
        "while n!= 0:\n",
        "  print(movie_id[sorted_index[l-i-1]],avg_rating[sorted_index[l-i-1]])\n",
        "  i = i+1\n",
        "  n = n-1\n"
      ],
      "metadata": {
        "id": "KPFFmvp0yLr8",
        "outputId": "9fe00d20-291a-49d9-ae4e-678bd13e53a9",
        "colab": {
          "base_uri": "https://localhost:8080/"
        }
      },
      "execution_count": 32,
      "outputs": [
        {
          "output_type": "stream",
          "name": "stdout",
          "text": [
            "6 5.0\n",
            "5 5\n",
            "32 4.3125\n",
            "3 4.25\n",
            "7 4\n"
          ]
        }
      ]
    },
    {
      "cell_type": "code",
      "source": [],
      "metadata": {
        "id": "7f4tV3u-yUvW"
      },
      "execution_count": null,
      "outputs": []
    }
  ]
}